{
 "cells": [
  {
   "cell_type": "code",
   "execution_count": 29,
   "metadata": {},
   "outputs": [
    {
     "data": {
      "text/plain": [
       "<wordcloud.wordcloud.WordCloud at 0x15142875760>"
      ]
     },
     "execution_count": 29,
     "metadata": {},
     "output_type": "execute_result"
    }
   ],
   "source": [
    "import jieba\n",
    "import wordcloud\n",
    "\n",
    "f=open(r'danmu1.txt',encoding='utf_8')\n",
    "text=f.read()\n",
    "text_list=jieba.lcut(text)\n",
    "string=' '.join(text_list)\n",
    "#print(string)\n",
    "wc=wordcloud.WordCloud(\n",
    "width=1000,\n",
    "height=700,\n",
    "background_color=\"white\",\n",
    "font_path=\"msyh.ttc\",\n",
    "scale=3,\n",
    ")\n",
    "wc.generate(string)\n",
    "wc.to_file('danmu1.1.png')"
   ]
  },
  {
   "cell_type": "code",
   "execution_count": 23,
   "metadata": {},
   "outputs": [
    {
     "data": {
      "text/plain": [
       "<wordcloud.wordcloud.WordCloud at 0x151428756d0>"
      ]
     },
     "execution_count": 23,
     "metadata": {},
     "output_type": "execute_result"
    }
   ],
   "source": [
    "import jieba\n",
    "import wordcloud\n",
    "\n",
    "f=open(r'danmu2.txt',encoding='utf_8')\n",
    "text=f.read()\n",
    "text_list=jieba.lcut(text)\n",
    "string=' '.join(text_list)\n",
    "#print(string)\n",
    "wc=wordcloud.WordCloud(\n",
    "width=1000,\n",
    "height=700,\n",
    "background_color=\"white\",\n",
    "font_path=\"msyh.ttc\",\n",
    "#scale=7,\n",
    ")\n",
    "wc.generate(string)\n",
    "wc.to_file('danmu1.2.png')"
   ]
  },
  {
   "cell_type": "code",
   "execution_count": 28,
   "metadata": {},
   "outputs": [
    {
     "data": {
      "text/plain": [
       "<wordcloud.wordcloud.WordCloud at 0x15140ab46a0>"
      ]
     },
     "execution_count": 28,
     "metadata": {},
     "output_type": "execute_result"
    }
   ],
   "source": [
    "import jieba\n",
    "import wordcloud\n",
    "\n",
    "f=open(r'danmu1.3.txt',encoding='utf_8')\n",
    "text=f.read()\n",
    "text_list=jieba.lcut(text)\n",
    "string=' '.join(text_list)\n",
    "#print(string)\n",
    "wc=wordcloud.WordCloud(\n",
    "width=1000,\n",
    "height=700,\n",
    "background_color=\"white\",\n",
    "font_path=\"msyh.ttc\",\n",
    "#scale=7,\n",
    ")\n",
    "wc.generate(string)\n",
    "wc.to_file('danmu1.3.png')"
   ]
  },
  {
   "cell_type": "code",
   "execution_count": 30,
   "metadata": {},
   "outputs": [
    {
     "data": {
      "text/plain": [
       "<wordcloud.wordcloud.WordCloud at 0x151428752e0>"
      ]
     },
     "execution_count": 30,
     "metadata": {},
     "output_type": "execute_result"
    }
   ],
   "source": [
    "import jieba\n",
    "import wordcloud\n",
    "\n",
    "f=open(r'danmu1.4.txt',encoding='utf_8')\n",
    "text=f.read()\n",
    "text_list=jieba.lcut(text)\n",
    "string=' '.join(text_list)\n",
    "#print(string)\n",
    "wc=wordcloud.WordCloud(\n",
    "width=1000,\n",
    "height=700,\n",
    "background_color=\"white\",\n",
    "font_path=\"msyh.ttc\",\n",
    "#scale=7,\n",
    ")\n",
    "wc.generate(string)\n",
    "wc.to_file('danmu1.4.png')"
   ]
  },
  {
   "cell_type": "code",
   "execution_count": 31,
   "metadata": {},
   "outputs": [
    {
     "data": {
      "text/plain": [
       "<wordcloud.wordcloud.WordCloud at 0x15142875a90>"
      ]
     },
     "execution_count": 31,
     "metadata": {},
     "output_type": "execute_result"
    }
   ],
   "source": [
    "import jieba\n",
    "import wordcloud\n",
    "\n",
    "f=open(r'danmu1.5.txt',encoding='utf_8')\n",
    "text=f.read()\n",
    "text_list=jieba.lcut(text)\n",
    "string=' '.join(text_list)\n",
    "#print(string)\n",
    "wc=wordcloud.WordCloud(\n",
    "width=1000,\n",
    "height=700,\n",
    "background_color=\"white\",\n",
    "font_path=\"msyh.ttc\",\n",
    "#scale=7,\n",
    ")\n",
    "wc.generate(string)\n",
    "wc.to_file('danmu1.5.png')"
   ]
  },
  {
   "cell_type": "code",
   "execution_count": 32,
   "metadata": {},
   "outputs": [
    {
     "data": {
      "text/plain": [
       "<wordcloud.wordcloud.WordCloud at 0x15140b87490>"
      ]
     },
     "execution_count": 32,
     "metadata": {},
     "output_type": "execute_result"
    }
   ],
   "source": [
    "import jieba\n",
    "import wordcloud\n",
    "\n",
    "f=open(r'danmu1.6.txt',encoding='utf_8')\n",
    "text=f.read()\n",
    "text_list=jieba.lcut(text)\n",
    "string=' '.join(text_list)\n",
    "#print(string)\n",
    "wc=wordcloud.WordCloud(\n",
    "width=1000,\n",
    "height=700,\n",
    "background_color=\"white\",\n",
    "font_path=\"msyh.ttc\",\n",
    "#scale=7,\n",
    ")\n",
    "wc.generate(string)\n",
    "wc.to_file('danmu1.6.png')"
   ]
  },
  {
   "cell_type": "code",
   "execution_count": 33,
   "metadata": {},
   "outputs": [
    {
     "data": {
      "text/plain": [
       "<wordcloud.wordcloud.WordCloud at 0x15142875c40>"
      ]
     },
     "execution_count": 33,
     "metadata": {},
     "output_type": "execute_result"
    }
   ],
   "source": [
    "import jieba\n",
    "import wordcloud\n",
    "\n",
    "f=open(r'danmu1.7.txt',encoding='utf_8')\n",
    "text=f.read()\n",
    "text_list=jieba.lcut(text)\n",
    "string=' '.join(text_list)\n",
    "#print(string)\n",
    "wc=wordcloud.WordCloud(\n",
    "width=1000,\n",
    "height=700,\n",
    "background_color=\"white\",\n",
    "font_path=\"msyh.ttc\",\n",
    "#scale=7,\n",
    ")\n",
    "wc.generate(string)\n",
    "wc.to_file('danmu1.7.png')"
   ]
  },
  {
   "cell_type": "code",
   "execution_count": 34,
   "metadata": {},
   "outputs": [
    {
     "data": {
      "text/plain": [
       "<wordcloud.wordcloud.WordCloud at 0x1514833dca0>"
      ]
     },
     "execution_count": 34,
     "metadata": {},
     "output_type": "execute_result"
    }
   ],
   "source": [
    "import jieba\n",
    "import wordcloud\n",
    "\n",
    "f=open(r'danmu1.8.txt',encoding='utf_8')\n",
    "text=f.read()\n",
    "text_list=jieba.lcut(text)\n",
    "string=' '.join(text_list)\n",
    "#print(string)\n",
    "wc=wordcloud.WordCloud(\n",
    "width=1000,\n",
    "height=700,\n",
    "background_color=\"white\",\n",
    "font_path=\"msyh.ttc\",\n",
    "#scale=7,\n",
    ")\n",
    "wc.generate(string)\n",
    "wc.to_file('danmu1.8.png')"
   ]
  },
  {
   "cell_type": "code",
   "execution_count": 35,
   "metadata": {},
   "outputs": [
    {
     "data": {
      "text/plain": [
       "<wordcloud.wordcloud.WordCloud at 0x1514833b100>"
      ]
     },
     "execution_count": 35,
     "metadata": {},
     "output_type": "execute_result"
    }
   ],
   "source": [
    "import jieba\n",
    "import wordcloud\n",
    "\n",
    "f=open(r'danmu1.9.txt',encoding='utf_8')\n",
    "text=f.read()\n",
    "text_list=jieba.lcut(text)\n",
    "string=' '.join(text_list)\n",
    "#print(string)\n",
    "wc=wordcloud.WordCloud(\n",
    "width=1000,\n",
    "height=700,\n",
    "background_color=\"white\",\n",
    "font_path=\"msyh.ttc\",\n",
    "#scale=7,\n",
    ")\n",
    "wc.generate(string)\n",
    "wc.to_file('danmu1.9.png')"
   ]
  },
  {
   "cell_type": "code",
   "execution_count": 36,
   "metadata": {},
   "outputs": [
    {
     "data": {
      "text/plain": [
       "<wordcloud.wordcloud.WordCloud at 0x15142875ee0>"
      ]
     },
     "execution_count": 36,
     "metadata": {},
     "output_type": "execute_result"
    }
   ],
   "source": [
    "import jieba\n",
    "import wordcloud\n",
    "\n",
    "f=open(r'danmu1.10.txt',encoding='utf_8')\n",
    "text=f.read()\n",
    "text_list=jieba.lcut(text)\n",
    "string=' '.join(text_list)\n",
    "#print(string)\n",
    "wc=wordcloud.WordCloud(\n",
    "width=1000,\n",
    "height=700,\n",
    "background_color=\"white\",\n",
    "font_path=\"msyh.ttc\",\n",
    "#scale=7,\n",
    ")\n",
    "wc.generate(string)\n",
    "wc.to_file('danmu1.10.png')"
   ]
  },
  {
   "cell_type": "code",
   "execution_count": 37,
   "metadata": {},
   "outputs": [
    {
     "data": {
      "text/plain": [
       "<wordcloud.wordcloud.WordCloud at 0x151427a16d0>"
      ]
     },
     "execution_count": 37,
     "metadata": {},
     "output_type": "execute_result"
    }
   ],
   "source": [
    "import jieba\n",
    "import wordcloud\n",
    "\n",
    "f=open(r'danmu1.11.txt',encoding='utf_8')\n",
    "text=f.read()\n",
    "text_list=jieba.lcut(text)\n",
    "string=' '.join(text_list)\n",
    "#print(string)\n",
    "wc=wordcloud.WordCloud(\n",
    "width=1000,\n",
    "height=700,\n",
    "background_color=\"white\",\n",
    "font_path=\"msyh.ttc\",\n",
    "#scale=7,\n",
    ")\n",
    "wc.generate(string)\n",
    "wc.to_file('danmu1.11.png')"
   ]
  },
  {
   "cell_type": "code",
   "execution_count": 38,
   "metadata": {},
   "outputs": [
    {
     "data": {
      "text/plain": [
       "<wordcloud.wordcloud.WordCloud at 0x151427ccf40>"
      ]
     },
     "execution_count": 38,
     "metadata": {},
     "output_type": "execute_result"
    }
   ],
   "source": [
    "import jieba\n",
    "import wordcloud\n",
    "\n",
    "f=open(r'danmu1.12.txt',encoding='utf_8')\n",
    "text=f.read()\n",
    "text_list=jieba.lcut(text)\n",
    "string=' '.join(text_list)\n",
    "#print(string)\n",
    "wc=wordcloud.WordCloud(\n",
    "width=1000,\n",
    "height=700,\n",
    "background_color=\"white\",\n",
    "font_path=\"msyh.ttc\",\n",
    "#scale=7,\n",
    ")\n",
    "wc.generate(string)\n",
    "wc.to_file('danmu1.12.png')"
   ]
  },
  {
   "cell_type": "code",
   "execution_count": 39,
   "metadata": {},
   "outputs": [
    {
     "data": {
      "text/plain": [
       "<wordcloud.wordcloud.WordCloud at 0x15140a9b1c0>"
      ]
     },
     "execution_count": 39,
     "metadata": {},
     "output_type": "execute_result"
    }
   ],
   "source": [
    "import jieba\n",
    "import wordcloud\n",
    "\n",
    "f=open(r'danmu2.1.txt',encoding='utf_8')\n",
    "text=f.read()\n",
    "text_list=jieba.lcut(text)\n",
    "string=' '.join(text_list)\n",
    "#print(string)\n",
    "wc=wordcloud.WordCloud(\n",
    "width=1000,\n",
    "height=700,\n",
    "background_color=\"white\",\n",
    "font_path=\"msyh.ttc\",\n",
    "#scale=7,\n",
    ")\n",
    "wc.generate(string)\n",
    "wc.to_file('danmu2.1.png')"
   ]
  },
  {
   "cell_type": "code",
   "execution_count": 40,
   "metadata": {},
   "outputs": [
    {
     "data": {
      "text/plain": [
       "<wordcloud.wordcloud.WordCloud at 0x1514833d400>"
      ]
     },
     "execution_count": 40,
     "metadata": {},
     "output_type": "execute_result"
    }
   ],
   "source": [
    "import jieba\n",
    "import wordcloud\n",
    "\n",
    "f=open(r'danmu2.2.txt',encoding='utf_8')\n",
    "text=f.read()\n",
    "text_list=jieba.lcut(text)\n",
    "string=' '.join(text_list)\n",
    "#print(string)\n",
    "wc=wordcloud.WordCloud(\n",
    "width=1000,\n",
    "height=700,\n",
    "background_color=\"white\",\n",
    "font_path=\"msyh.ttc\",\n",
    "#scale=7,\n",
    ")\n",
    "wc.generate(string)\n",
    "wc.to_file('danmu2.2.png')"
   ]
  },
  {
   "cell_type": "code",
   "execution_count": 41,
   "metadata": {},
   "outputs": [
    {
     "data": {
      "text/plain": [
       "<wordcloud.wordcloud.WordCloud at 0x15142875dc0>"
      ]
     },
     "execution_count": 41,
     "metadata": {},
     "output_type": "execute_result"
    }
   ],
   "source": [
    "import jieba\n",
    "import wordcloud\n",
    "\n",
    "f=open(r'danmu2.3.txt',encoding='utf_8')\n",
    "text=f.read()\n",
    "text_list=jieba.lcut(text)\n",
    "string=' '.join(text_list)\n",
    "#print(string)\n",
    "wc=wordcloud.WordCloud(\n",
    "width=1000,\n",
    "height=700,\n",
    "background_color=\"white\",\n",
    "font_path=\"msyh.ttc\",\n",
    "#scale=7,\n",
    ")\n",
    "wc.generate(string)\n",
    "wc.to_file('danmu2.3.png')"
   ]
  },
  {
   "cell_type": "code",
   "execution_count": 42,
   "metadata": {},
   "outputs": [
    {
     "data": {
      "text/plain": [
       "<wordcloud.wordcloud.WordCloud at 0x15142875850>"
      ]
     },
     "execution_count": 42,
     "metadata": {},
     "output_type": "execute_result"
    }
   ],
   "source": [
    "import jieba\n",
    "import wordcloud\n",
    "\n",
    "f=open(r'danmu2.4.txt',encoding='utf_8')\n",
    "text=f.read()\n",
    "text_list=jieba.lcut(text)\n",
    "string=' '.join(text_list)\n",
    "#print(string)\n",
    "wc=wordcloud.WordCloud(\n",
    "width=1000,\n",
    "height=700,\n",
    "background_color=\"white\",\n",
    "font_path=\"msyh.ttc\",\n",
    "#scale=7,\n",
    ")\n",
    "wc.generate(string)\n",
    "wc.to_file('danmu2.4.png')"
   ]
  },
  {
   "cell_type": "code",
   "execution_count": 43,
   "metadata": {},
   "outputs": [
    {
     "data": {
      "text/plain": [
       "<wordcloud.wordcloud.WordCloud at 0x15142875910>"
      ]
     },
     "execution_count": 43,
     "metadata": {},
     "output_type": "execute_result"
    }
   ],
   "source": [
    "import jieba\n",
    "import wordcloud\n",
    "\n",
    "f=open(r'danmu2.5.txt',encoding='utf_8')\n",
    "text=f.read()\n",
    "text_list=jieba.lcut(text)\n",
    "string=' '.join(text_list)\n",
    "#print(string)\n",
    "wc=wordcloud.WordCloud(\n",
    "width=1000,\n",
    "height=700,\n",
    "background_color=\"white\",\n",
    "font_path=\"msyh.ttc\",\n",
    "#scale=7,\n",
    ")\n",
    "wc.generate(string)\n",
    "wc.to_file('danmu2.5.png')"
   ]
  },
  {
   "cell_type": "code",
   "execution_count": 44,
   "metadata": {},
   "outputs": [
    {
     "data": {
      "text/plain": [
       "<wordcloud.wordcloud.WordCloud at 0x15140ab4400>"
      ]
     },
     "execution_count": 44,
     "metadata": {},
     "output_type": "execute_result"
    }
   ],
   "source": [
    "import jieba\n",
    "import wordcloud\n",
    "\n",
    "f=open(r'danmu2.6.txt',encoding='utf_8')\n",
    "text=f.read()\n",
    "text_list=jieba.lcut(text)\n",
    "string=' '.join(text_list)\n",
    "#print(string)\n",
    "wc=wordcloud.WordCloud(\n",
    "width=1000,\n",
    "height=700,\n",
    "background_color=\"white\",\n",
    "font_path=\"msyh.ttc\",\n",
    "#scale=7,\n",
    ")\n",
    "wc.generate(string)\n",
    "wc.to_file('danmu2.6.png')"
   ]
  },
  {
   "cell_type": "code",
   "execution_count": 45,
   "metadata": {},
   "outputs": [
    {
     "data": {
      "text/plain": [
       "<wordcloud.wordcloud.WordCloud at 0x15142875940>"
      ]
     },
     "execution_count": 45,
     "metadata": {},
     "output_type": "execute_result"
    }
   ],
   "source": [
    "import jieba\n",
    "import wordcloud\n",
    "\n",
    "f=open(r'danmu2.7.txt',encoding='utf_8')\n",
    "text=f.read()\n",
    "text_list=jieba.lcut(text)\n",
    "string=' '.join(text_list)\n",
    "#print(string)\n",
    "wc=wordcloud.WordCloud(\n",
    "width=1000,\n",
    "height=700,\n",
    "background_color=\"white\",\n",
    "font_path=\"msyh.ttc\",\n",
    "#scale=7,\n",
    ")\n",
    "wc.generate(string)\n",
    "wc.to_file('danmu2.7.png')"
   ]
  },
  {
   "cell_type": "code",
   "execution_count": 46,
   "metadata": {},
   "outputs": [
    {
     "data": {
      "text/plain": [
       "<wordcloud.wordcloud.WordCloud at 0x1514833d550>"
      ]
     },
     "execution_count": 46,
     "metadata": {},
     "output_type": "execute_result"
    }
   ],
   "source": [
    "import jieba\n",
    "import wordcloud\n",
    "\n",
    "f=open(r'danmu2.8.txt',encoding='utf_8')\n",
    "text=f.read()\n",
    "text_list=jieba.lcut(text)\n",
    "string=' '.join(text_list)\n",
    "#print(string)\n",
    "wc=wordcloud.WordCloud(\n",
    "width=1000,\n",
    "height=700,\n",
    "background_color=\"white\",\n",
    "font_path=\"msyh.ttc\",\n",
    "#scale=7,\n",
    ")\n",
    "wc.generate(string)\n",
    "wc.to_file('danmu2.8.png')"
   ]
  },
  {
   "cell_type": "code",
   "execution_count": 47,
   "metadata": {},
   "outputs": [
    {
     "data": {
      "text/plain": [
       "<wordcloud.wordcloud.WordCloud at 0x1514833d670>"
      ]
     },
     "execution_count": 47,
     "metadata": {},
     "output_type": "execute_result"
    }
   ],
   "source": [
    "import jieba\n",
    "import wordcloud\n",
    "\n",
    "f=open(r'danmu2.9.txt',encoding='utf_8')\n",
    "text=f.read()\n",
    "text_list=jieba.lcut(text)\n",
    "string=' '.join(text_list)\n",
    "#print(string)\n",
    "wc=wordcloud.WordCloud(\n",
    "width=1000,\n",
    "height=700,\n",
    "background_color=\"white\",\n",
    "font_path=\"msyh.ttc\",\n",
    "#scale=7,\n",
    ")\n",
    "wc.generate(string)\n",
    "wc.to_file('danmu2.9.png')"
   ]
  },
  {
   "cell_type": "code",
   "execution_count": 48,
   "metadata": {},
   "outputs": [
    {
     "data": {
      "text/plain": [
       "<wordcloud.wordcloud.WordCloud at 0x15142875220>"
      ]
     },
     "execution_count": 48,
     "metadata": {},
     "output_type": "execute_result"
    }
   ],
   "source": [
    "import jieba\n",
    "import wordcloud\n",
    "\n",
    "f=open(r'danmu2.10.txt',encoding='utf_8')\n",
    "text=f.read()\n",
    "text_list=jieba.lcut(text)\n",
    "string=' '.join(text_list)\n",
    "#print(string)\n",
    "wc=wordcloud.WordCloud(\n",
    "width=1000,\n",
    "height=700,\n",
    "background_color=\"white\",\n",
    "font_path=\"msyh.ttc\",\n",
    "#scale=7,\n",
    ")\n",
    "wc.generate(string)\n",
    "wc.to_file('danmu2.10.png')"
   ]
  },
  {
   "cell_type": "code",
   "execution_count": 49,
   "metadata": {},
   "outputs": [
    {
     "data": {
      "text/plain": [
       "<wordcloud.wordcloud.WordCloud at 0x1514833d6d0>"
      ]
     },
     "execution_count": 49,
     "metadata": {},
     "output_type": "execute_result"
    }
   ],
   "source": [
    "import jieba\n",
    "import wordcloud\n",
    "\n",
    "f=open(r'danmu2.11.txt',encoding='utf_8')\n",
    "text=f.read()\n",
    "text_list=jieba.lcut(text)\n",
    "string=' '.join(text_list)\n",
    "#print(string)\n",
    "wc=wordcloud.WordCloud(\n",
    "width=1000,\n",
    "height=700,\n",
    "background_color=\"white\",\n",
    "font_path=\"msyh.ttc\",\n",
    "#scale=7,\n",
    ")\n",
    "wc.generate(string)\n",
    "wc.to_file('danmu2.11.png')"
   ]
  },
  {
   "cell_type": "code",
   "execution_count": 50,
   "metadata": {},
   "outputs": [
    {
     "data": {
      "text/plain": [
       "<wordcloud.wordcloud.WordCloud at 0x151427a1610>"
      ]
     },
     "execution_count": 50,
     "metadata": {},
     "output_type": "execute_result"
    }
   ],
   "source": [
    "import jieba\n",
    "import wordcloud\n",
    "\n",
    "f=open(r'danmu2.12.txt',encoding='utf_8')\n",
    "text=f.read()\n",
    "text_list=jieba.lcut(text)\n",
    "string=' '.join(text_list)\n",
    "#print(string)\n",
    "wc=wordcloud.WordCloud(\n",
    "width=1000,\n",
    "height=700,\n",
    "background_color=\"white\",\n",
    "font_path=\"msyh.ttc\",\n",
    "#scale=7,\n",
    ")\n",
    "wc.generate(string)\n",
    "wc.to_file('danmu2.12.png')"
   ]
  },
  {
   "cell_type": "code",
   "execution_count": 51,
   "metadata": {},
   "outputs": [
    {
     "data": {
      "text/plain": [
       "<wordcloud.wordcloud.WordCloud at 0x15142c7fa90>"
      ]
     },
     "execution_count": 51,
     "metadata": {},
     "output_type": "execute_result"
    }
   ],
   "source": [
    "import jieba\n",
    "import wordcloud\n",
    "\n",
    "f=open(r'danmu3.1.txt',encoding='utf_8')\n",
    "text=f.read()\n",
    "text_list=jieba.lcut(text)\n",
    "string=' '.join(text_list)\n",
    "#print(string)\n",
    "wc=wordcloud.WordCloud(\n",
    "width=1000,\n",
    "height=700,\n",
    "background_color=\"white\",\n",
    "font_path=\"msyh.ttc\",\n",
    "#scale=7,\n",
    ")\n",
    "wc.generate(string)\n",
    "wc.to_file('danmu3.1.png')"
   ]
  },
  {
   "cell_type": "code",
   "execution_count": 52,
   "metadata": {},
   "outputs": [
    {
     "data": {
      "text/plain": [
       "<wordcloud.wordcloud.WordCloud at 0x15140a9bbe0>"
      ]
     },
     "execution_count": 52,
     "metadata": {},
     "output_type": "execute_result"
    }
   ],
   "source": [
    "import jieba\n",
    "import wordcloud\n",
    "\n",
    "f=open(r'danmu3.2.txt',encoding='utf_8')\n",
    "text=f.read()\n",
    "text_list=jieba.lcut(text)\n",
    "string=' '.join(text_list)\n",
    "#print(string)\n",
    "wc=wordcloud.WordCloud(\n",
    "width=1000,\n",
    "height=700,\n",
    "background_color=\"white\",\n",
    "font_path=\"msyh.ttc\",\n",
    "#scale=7,\n",
    ")\n",
    "wc.generate(string)\n",
    "wc.to_file('danmu3.2.png')"
   ]
  },
  {
   "cell_type": "code",
   "execution_count": 53,
   "metadata": {},
   "outputs": [
    {
     "data": {
      "text/plain": [
       "<wordcloud.wordcloud.WordCloud at 0x1514833df40>"
      ]
     },
     "execution_count": 53,
     "metadata": {},
     "output_type": "execute_result"
    }
   ],
   "source": [
    "import jieba\n",
    "import wordcloud\n",
    "\n",
    "f=open(r'danmu3.3.txt',encoding='utf_8')\n",
    "text=f.read()\n",
    "text_list=jieba.lcut(text)\n",
    "string=' '.join(text_list)\n",
    "#print(string)\n",
    "wc=wordcloud.WordCloud(\n",
    "width=1000,\n",
    "height=700,\n",
    "background_color=\"white\",\n",
    "font_path=\"msyh.ttc\",\n",
    "#scale=7,\n",
    ")\n",
    "wc.generate(string)\n",
    "wc.to_file('danmu3.3.png')"
   ]
  },
  {
   "cell_type": "code",
   "execution_count": 54,
   "metadata": {},
   "outputs": [
    {
     "data": {
      "text/plain": [
       "<wordcloud.wordcloud.WordCloud at 0x15140a9f640>"
      ]
     },
     "execution_count": 54,
     "metadata": {},
     "output_type": "execute_result"
    }
   ],
   "source": [
    "import jieba\n",
    "import wordcloud\n",
    "\n",
    "f=open(r'danmu3.4.txt',encoding='utf_8')\n",
    "text=f.read()\n",
    "text_list=jieba.lcut(text)\n",
    "string=' '.join(text_list)\n",
    "#print(string)\n",
    "wc=wordcloud.WordCloud(\n",
    "width=1000,\n",
    "height=700,\n",
    "background_color=\"white\",\n",
    "font_path=\"msyh.ttc\",\n",
    "#scale=7,\n",
    ")\n",
    "wc.generate(string)\n",
    "wc.to_file('danmu3.4.png')"
   ]
  },
  {
   "cell_type": "code",
   "execution_count": 55,
   "metadata": {},
   "outputs": [
    {
     "data": {
      "text/plain": [
       "<wordcloud.wordcloud.WordCloud at 0x1514833d4f0>"
      ]
     },
     "execution_count": 55,
     "metadata": {},
     "output_type": "execute_result"
    }
   ],
   "source": [
    "import jieba\n",
    "import wordcloud\n",
    "\n",
    "f=open(r'danmu3.5.txt',encoding='utf_8')\n",
    "text=f.read()\n",
    "text_list=jieba.lcut(text)\n",
    "string=' '.join(text_list)\n",
    "#print(string)\n",
    "wc=wordcloud.WordCloud(\n",
    "width=1000,\n",
    "height=700,\n",
    "background_color=\"white\",\n",
    "font_path=\"msyh.ttc\",\n",
    "#scale=7,\n",
    ")\n",
    "wc.generate(string)\n",
    "wc.to_file('danmu3.5.png')"
   ]
  },
  {
   "cell_type": "code",
   "execution_count": 56,
   "metadata": {},
   "outputs": [
    {
     "data": {
      "text/plain": [
       "<wordcloud.wordcloud.WordCloud at 0x151428757c0>"
      ]
     },
     "execution_count": 56,
     "metadata": {},
     "output_type": "execute_result"
    }
   ],
   "source": [
    "import jieba\n",
    "import wordcloud\n",
    "\n",
    "f=open(r'danmu3.6.txt',encoding='utf_8')\n",
    "text=f.read()\n",
    "text_list=jieba.lcut(text)\n",
    "string=' '.join(text_list)\n",
    "#print(string)\n",
    "wc=wordcloud.WordCloud(\n",
    "width=1000,\n",
    "height=700,\n",
    "background_color=\"white\",\n",
    "font_path=\"msyh.ttc\",\n",
    "#scale=7,\n",
    ")\n",
    "wc.generate(string)\n",
    "wc.to_file('danmu3.6.png')"
   ]
  },
  {
   "cell_type": "code",
   "execution_count": 1,
   "metadata": {},
   "outputs": [
    {
     "name": "stderr",
     "output_type": "stream",
     "text": [
      "Building prefix dict from the default dictionary ...\n",
      "Loading model from cache C:\\Users\\zzh\\AppData\\Local\\Temp\\jieba.cache\n",
      "Loading model cost 0.647 seconds.\n",
      "Prefix dict has been built successfully.\n"
     ]
    },
    {
     "data": {
      "text/plain": [
       "<wordcloud.wordcloud.WordCloud at 0x1d4426beac0>"
      ]
     },
     "execution_count": 1,
     "metadata": {},
     "output_type": "execute_result"
    }
   ],
   "source": [
    "import jieba\n",
    "import wordcloud\n",
    "\n",
    "f=open(r'pinglun1.csv',encoding='utf_8')\n",
    "text=f.read()\n",
    "text_list=jieba.lcut(text)\n",
    "string=' '.join(text_list)\n",
    "#print(string)\n",
    "wc=wordcloud.WordCloud(\n",
    "width=1000,\n",
    "height=700,\n",
    "background_color=\"white\",\n",
    "font_path=\"msyh.ttc\",\n",
    "#scale=7,\n",
    ")\n",
    "wc.generate(string)\n",
    "wc.to_file('pinglun1.png')"
   ]
  },
  {
   "cell_type": "code",
   "execution_count": 4,
   "metadata": {},
   "outputs": [
    {
     "data": {
      "text/plain": [
       "<wordcloud.wordcloud.WordCloud at 0x1d440b77af0>"
      ]
     },
     "execution_count": 4,
     "metadata": {},
     "output_type": "execute_result"
    }
   ],
   "source": [
    "import jieba\n",
    "import wordcloud\n",
    "\n",
    "f=open(r'pinglun2.csv',encoding='utf_8')\n",
    "text=f.read()\n",
    "text_list=jieba.lcut(text)\n",
    "string=' '.join(text_list)\n",
    "#print(string)\n",
    "wc=wordcloud.WordCloud(\n",
    "width=1000,\n",
    "height=700,\n",
    "background_color=\"white\",\n",
    "font_path=\"msyh.ttc\",\n",
    "#scale=7,\n",
    ")\n",
    "wc.generate(string)\n",
    "wc.to_file('pinglun2.png')"
   ]
  },
  {
   "cell_type": "code",
   "execution_count": 3,
   "metadata": {},
   "outputs": [
    {
     "data": {
      "text/plain": [
       "<wordcloud.wordcloud.WordCloud at 0x1d440b773a0>"
      ]
     },
     "execution_count": 3,
     "metadata": {},
     "output_type": "execute_result"
    }
   ],
   "source": [
    "import jieba\n",
    "import wordcloud\n",
    "\n",
    "f=open(r'长评.csv',encoding='utf_8')\n",
    "text=f.read()\n",
    "text_list=jieba.lcut(text)\n",
    "string=' '.join(text_list)\n",
    "#print(string)\n",
    "wc=wordcloud.WordCloud(\n",
    "width=1000,\n",
    "height=700,\n",
    "background_color=\"white\",\n",
    "font_path=\"msyh.ttc\",\n",
    "#scale=7,\n",
    ")\n",
    "wc.generate(string)\n",
    "wc.to_file('长评.png')"
   ]
  },
  {
   "cell_type": "code",
   "execution_count": 6,
   "metadata": {},
   "outputs": [
    {
     "data": {
      "text/plain": [
       "<wordcloud.wordcloud.WordCloud at 0x1d440b5ae20>"
      ]
     },
     "execution_count": 6,
     "metadata": {},
     "output_type": "execute_result"
    }
   ],
   "source": [
    "import jieba\n",
    "import wordcloud\n",
    "\n",
    "f=open(r'长评.csv',encoding='utf_8')\n",
    "text=f.read()\n",
    "text_list=jieba.lcut(text)\n",
    "string=' '.join(text_list)\n",
    "#print(string)\n",
    "wc=wordcloud.WordCloud(\n",
    "width=1000,\n",
    "height=700,\n",
    "background_color=\"white\",\n",
    "font_path=\"msyh.ttc\",\n",
    "#scale=7,\n",
    ")\n",
    "wc.generate(string)\n",
    "wc.to_file('长评2.png')"
   ]
  },
  {
   "cell_type": "code",
   "execution_count": 7,
   "metadata": {},
   "outputs": [
    {
     "data": {
      "text/plain": [
       "<wordcloud.wordcloud.WordCloud at 0x1d440b77130>"
      ]
     },
     "execution_count": 7,
     "metadata": {},
     "output_type": "execute_result"
    }
   ],
   "source": [
    "import jieba\n",
    "import wordcloud\n",
    "\n",
    "f=open(r'长评3.csv',encoding='utf_8')\n",
    "text=f.read()\n",
    "text_list=jieba.lcut(text)\n",
    "string=' '.join(text_list)\n",
    "#print(string)\n",
    "wc=wordcloud.WordCloud(\n",
    "width=1000,\n",
    "height=700,\n",
    "background_color=\"white\",\n",
    "font_path=\"msyh.ttc\",\n",
    "#scale=7,\n",
    ")\n",
    "wc.generate(string)\n",
    "wc.to_file('长评3.png')"
   ]
  },
  {
   "cell_type": "code",
   "execution_count": 8,
   "metadata": {},
   "outputs": [
    {
     "data": {
      "text/plain": [
       "<wordcloud.wordcloud.WordCloud at 0x1d43fac7b50>"
      ]
     },
     "execution_count": 8,
     "metadata": {},
     "output_type": "execute_result"
    }
   ],
   "source": [
    "import jieba\n",
    "import wordcloud\n",
    "\n",
    "f=open(r'讨论.csv',encoding='utf_8')\n",
    "text=f.read()\n",
    "text_list=jieba.lcut(text)\n",
    "string=' '.join(text_list)\n",
    "#print(string)\n",
    "wc=wordcloud.WordCloud(\n",
    "width=1000,\n",
    "height=700,\n",
    "background_color=\"white\",\n",
    "font_path=\"msyh.ttc\",\n",
    "#scale=7,\n",
    ")\n",
    "wc.generate(string)\n",
    "wc.to_file('讨论.png')"
   ]
  },
  {
   "cell_type": "code",
   "execution_count": 10,
   "metadata": {},
   "outputs": [
    {
     "data": {
      "text/plain": [
       "<wordcloud.wordcloud.WordCloud at 0x1d448349a90>"
      ]
     },
     "execution_count": 10,
     "metadata": {},
     "output_type": "execute_result"
    }
   ],
   "source": [
    "import jieba\n",
    "import wordcloud\n",
    "\n",
    "f=open(r'su.txt',encoding='utf_8')\n",
    "text=f.read()\n",
    "text_list=jieba.lcut(text)\n",
    "string=' '.join(text_list)\n",
    "#print(string)\n",
    "wc=wordcloud.WordCloud(\n",
    "width=1000,\n",
    "height=700,\n",
    "background_color=\"white\",\n",
    "font_path=\"msyh.ttc\",\n",
    "#scale=7,\n",
    ")\n",
    "wc.generate(string)\n",
    "wc.to_file('短评.png')"
   ]
  },
  {
   "cell_type": "code",
   "execution_count": null,
   "metadata": {},
   "outputs": [],
   "source": []
  }
 ],
 "metadata": {
  "kernelspec": {
   "display_name": "Python 3",
   "language": "python",
   "name": "python3"
  },
  "language_info": {
   "codemirror_mode": {
    "name": "ipython",
    "version": 3
   },
   "file_extension": ".py",
   "mimetype": "text/x-python",
   "name": "python",
   "nbconvert_exporter": "python",
   "pygments_lexer": "ipython3",
   "version": "3.8.5"
  }
 },
 "nbformat": 4,
 "nbformat_minor": 4
}
